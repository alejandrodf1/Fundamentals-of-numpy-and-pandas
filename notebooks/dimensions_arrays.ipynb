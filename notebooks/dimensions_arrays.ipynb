{
 "cells": [
  {
   "cell_type": "markdown",
   "metadata": {},
   "source": [
    "# Dimensions"
   ]
  },
  {
   "cell_type": "code",
   "execution_count": 4,
   "metadata": {},
   "outputs": [],
   "source": [
    "import numpy as np"
   ]
  },
  {
   "cell_type": "code",
   "execution_count": 5,
   "metadata": {},
   "outputs": [],
   "source": [
    "scalar = np.array(1)\n",
    "vector = np.array([1,15,14,16,18,12,20])\n",
    "matrix = np.array([[1,2,3,4],[10,11,12,13],[14,15,16,18]])\n",
    "tensor = np.array([[[1,2,3,4],[10,11,12,13],[14,15,16,18],[12,15,48,7]] ,[[14,12,15,17],[54,65,98,78],[3,0,45,65],[7,8,9,52]]])"
   ]
  },
  {
   "cell_type": "code",
   "execution_count": 6,
   "metadata": {},
   "outputs": [
    {
     "name": "stdout",
     "output_type": "stream",
     "text": [
      "1\n",
      "The scalar dimension is: 0\n",
      "[ 1 15 14 16 18 12 20]\n",
      "The vector dimension is: 1\n",
      "[[ 1  2  3  4]\n",
      " [10 11 12 13]\n",
      " [14 15 16 18]]\n",
      "The matrix dimension is: 2\n",
      "[[[ 1  2  3  4]\n",
      "  [10 11 12 13]\n",
      "  [14 15 16 18]\n",
      "  [12 15 48  7]]\n",
      "\n",
      " [[14 12 15 17]\n",
      "  [54 65 98 78]\n",
      "  [ 3  0 45 65]\n",
      "  [ 7  8  9 52]]]\n",
      "The tensor dimension is: 3\n"
     ]
    }
   ],
   "source": [
    "print(scalar)\n",
    "print(f'The scalar dimension is: {scalar.ndim}')\n",
    "\n",
    "print(vector)\n",
    "print(f'The vector dimension is: {vector.ndim}')\n",
    "\n",
    "print(matrix)\n",
    "print(f'The matrix dimension is: {matrix.ndim}')\n",
    "\n",
    "print(tensor)\n",
    "print(f'The tensor dimension is: {tensor.ndim}')\n"
   ]
  },
  {
   "cell_type": "markdown",
   "metadata": {},
   "source": [
    "## Add or eliminate dimensions\n",
    "note: in numpy and python in general axis 0 = rows, and axis 1 = columns"
   ]
  },
  {
   "cell_type": "code",
   "execution_count": 7,
   "metadata": {},
   "outputs": [
    {
     "name": "stdout",
     "output_type": "stream",
     "text": [
      "[[[[[[[[[[ 1 15 14 16 18 12 20]]]]]]]]]]\n",
      " 10\n"
     ]
    }
   ],
   "source": [
    "vector = np.array([1,15,14,16,18,12,20], ndmin=10) #el siguiente me devolvera el objeto con 10 dimensiones\n",
    "print(vector)\n",
    "print(f' {vector.ndim}')"
   ]
  },
  {
   "cell_type": "code",
   "execution_count": 8,
   "metadata": {},
   "outputs": [
    {
     "name": "stdout",
     "output_type": "stream",
     "text": [
      "[[1 2 3]]\n"
     ]
    },
    {
     "data": {
      "text/plain": [
       "2"
      ]
     },
     "execution_count": 8,
     "metadata": {},
     "output_type": "execute_result"
    }
   ],
   "source": [
    "expandvecto=np.expand_dims(np.array([1,2,3]), axis=0) #expandar dimension en ejes\n",
    "print(expandvecto)\n",
    "expandvecto.ndim"
   ]
  },
  {
   "cell_type": "code",
   "execution_count": 9,
   "metadata": {},
   "outputs": [
    {
     "name": "stdout",
     "output_type": "stream",
     "text": [
      "[[[[[[[[[[ 1 15 14 16 18 12 20]]]]]]]]]] 10\n",
      "[ 1 15 14 16 18 12 20] 1\n"
     ]
    }
   ],
   "source": [
    "#eliminate dimensions\n",
    "print(vector, vector.ndim)\n",
    "vector2 = np.squeeze(vector)\n",
    "print(vector2, vector2.ndim)"
   ]
  },
  {
   "cell_type": "markdown",
   "metadata": {},
   "source": [
    "## Challenge\n",
    "1. Define a tensor at least 5 dimensions\n",
    "2. add one dimension in any axis\n",
    "3. delete unnecessary dimensions"
   ]
  },
  {
   "cell_type": "code",
   "execution_count": 10,
   "metadata": {},
   "outputs": [
    {
     "name": "stdout",
     "output_type": "stream",
     "text": [
      "[[[[[[[   1    2    3    4]\n",
      "      [  10   11   12   13]\n",
      "      [  14   15   16   18]\n",
      "      [  12   15   48    7]]\n",
      "\n",
      "     [[  14   12   15   17]\n",
      "      [  54   65   98   78]\n",
      "      [   3    0   45   65]\n",
      "      [   7    8    9   52]]\n",
      "\n",
      "     [[  85   95   65   35]\n",
      "      [  45   78   45 1200]\n",
      "      [   0   12   36    5]\n",
      "      [  45    8    7    6]]]]]]] 7\n"
     ]
    }
   ],
   "source": [
    "tensor = np.array([[[1,2,3,4],[10,11,12,13],[14,15,16,18],[12,15,48,7]] ,\n",
    "                    [[14,12,15,17],[54,65,98,78],[3,0,45,65],[7,8,9,52]],\n",
    "                    [[85,95,65,35],[45,78,45,1200],[0,12,36,5],[45,8,7,6]]], ndmin=7)\n",
    "print(tensor, tensor.ndim)"
   ]
  },
  {
   "cell_type": "code",
   "execution_count": 11,
   "metadata": {},
   "outputs": [
    {
     "data": {
      "text/plain": [
       "8"
      ]
     },
     "execution_count": 11,
     "metadata": {},
     "output_type": "execute_result"
    }
   ],
   "source": [
    "tensorexpand = np.expand_dims(tensor, axis=2)\n",
    "tensorexpand.ndim"
   ]
  },
  {
   "cell_type": "code",
   "execution_count": 12,
   "metadata": {},
   "outputs": [
    {
     "name": "stdout",
     "output_type": "stream",
     "text": [
      "[[[   1    2    3    4]\n",
      "  [  10   11   12   13]\n",
      "  [  14   15   16   18]\n",
      "  [  12   15   48    7]]\n",
      "\n",
      " [[  14   12   15   17]\n",
      "  [  54   65   98   78]\n",
      "  [   3    0   45   65]\n",
      "  [   7    8    9   52]]\n",
      "\n",
      " [[  85   95   65   35]\n",
      "  [  45   78   45 1200]\n",
      "  [   0   12   36    5]\n",
      "  [  45    8    7    6]]] 3\n"
     ]
    }
   ],
   "source": [
    "tensor2 = np.squeeze(tensor)\n",
    "print(tensor2, tensor2.ndim)"
   ]
  },
  {
   "cell_type": "markdown",
   "metadata": {},
   "source": [
    "# Arrays"
   ]
  },
  {
   "cell_type": "code",
   "execution_count": 13,
   "metadata": {},
   "outputs": [
    {
     "data": {
      "text/plain": [
       "[0, 1, 2, 3, 4, 5, 6, 7, 8, 9]"
      ]
     },
     "execution_count": 13,
     "metadata": {},
     "output_type": "execute_result"
    }
   ],
   "source": [
    "list(range(0,10))"
   ]
  },
  {
   "cell_type": "code",
   "execution_count": 15,
   "metadata": {},
   "outputs": [
    {
     "data": {
      "text/plain": [
       "array([0, 2, 4, 6, 8])"
      ]
     },
     "execution_count": 15,
     "metadata": {},
     "output_type": "execute_result"
    }
   ],
   "source": [
    "np.arange(0,10) #generate values from 0 to 10-1\n",
    "np.arange(0,10,2) #generate the values but in 2 steps"
   ]
  },
  {
   "cell_type": "code",
   "execution_count": 17,
   "metadata": {},
   "outputs": [
    {
     "data": {
      "text/plain": [
       "array([[0., 0., 0., 0., 0., 0., 0., 0., 0., 0.],\n",
       "       [0., 0., 0., 0., 0., 0., 0., 0., 0., 0.],\n",
       "       [0., 0., 0., 0., 0., 0., 0., 0., 0., 0.],\n",
       "       [0., 0., 0., 0., 0., 0., 0., 0., 0., 0.],\n",
       "       [0., 0., 0., 0., 0., 0., 0., 0., 0., 0.],\n",
       "       [0., 0., 0., 0., 0., 0., 0., 0., 0., 0.],\n",
       "       [0., 0., 0., 0., 0., 0., 0., 0., 0., 0.],\n",
       "       [0., 0., 0., 0., 0., 0., 0., 0., 0., 0.],\n",
       "       [0., 0., 0., 0., 0., 0., 0., 0., 0., 0.],\n",
       "       [0., 0., 0., 0., 0., 0., 0., 0., 0., 0.]])"
      ]
     },
     "execution_count": 17,
     "metadata": {},
     "output_type": "execute_result"
    }
   ],
   "source": [
    "np.zeros((10,10))  #me da un array de ceros"
   ]
  },
  {
   "cell_type": "code",
   "execution_count": 19,
   "metadata": {},
   "outputs": [
    {
     "data": {
      "text/plain": [
       "array([[1., 1., 1., 1., 1., 1., 1., 1., 1., 1.],\n",
       "       [1., 1., 1., 1., 1., 1., 1., 1., 1., 1.],\n",
       "       [1., 1., 1., 1., 1., 1., 1., 1., 1., 1.],\n",
       "       [1., 1., 1., 1., 1., 1., 1., 1., 1., 1.],\n",
       "       [1., 1., 1., 1., 1., 1., 1., 1., 1., 1.],\n",
       "       [1., 1., 1., 1., 1., 1., 1., 1., 1., 1.],\n",
       "       [1., 1., 1., 1., 1., 1., 1., 1., 1., 1.],\n",
       "       [1., 1., 1., 1., 1., 1., 1., 1., 1., 1.],\n",
       "       [1., 1., 1., 1., 1., 1., 1., 1., 1., 1.],\n",
       "       [1., 1., 1., 1., 1., 1., 1., 1., 1., 1.]])"
      ]
     },
     "execution_count": 19,
     "metadata": {},
     "output_type": "execute_result"
    }
   ],
   "source": [
    "np.ones((10,10))"
   ]
  },
  {
   "cell_type": "code",
   "execution_count": 21,
   "metadata": {},
   "outputs": [
    {
     "data": {
      "text/plain": [
       "array([ 0.        ,  0.1010101 ,  0.2020202 ,  0.3030303 ,  0.4040404 ,\n",
       "        0.50505051,  0.60606061,  0.70707071,  0.80808081,  0.90909091,\n",
       "        1.01010101,  1.11111111,  1.21212121,  1.31313131,  1.41414141,\n",
       "        1.51515152,  1.61616162,  1.71717172,  1.81818182,  1.91919192,\n",
       "        2.02020202,  2.12121212,  2.22222222,  2.32323232,  2.42424242,\n",
       "        2.52525253,  2.62626263,  2.72727273,  2.82828283,  2.92929293,\n",
       "        3.03030303,  3.13131313,  3.23232323,  3.33333333,  3.43434343,\n",
       "        3.53535354,  3.63636364,  3.73737374,  3.83838384,  3.93939394,\n",
       "        4.04040404,  4.14141414,  4.24242424,  4.34343434,  4.44444444,\n",
       "        4.54545455,  4.64646465,  4.74747475,  4.84848485,  4.94949495,\n",
       "        5.05050505,  5.15151515,  5.25252525,  5.35353535,  5.45454545,\n",
       "        5.55555556,  5.65656566,  5.75757576,  5.85858586,  5.95959596,\n",
       "        6.06060606,  6.16161616,  6.26262626,  6.36363636,  6.46464646,\n",
       "        6.56565657,  6.66666667,  6.76767677,  6.86868687,  6.96969697,\n",
       "        7.07070707,  7.17171717,  7.27272727,  7.37373737,  7.47474747,\n",
       "        7.57575758,  7.67676768,  7.77777778,  7.87878788,  7.97979798,\n",
       "        8.08080808,  8.18181818,  8.28282828,  8.38383838,  8.48484848,\n",
       "        8.58585859,  8.68686869,  8.78787879,  8.88888889,  8.98989899,\n",
       "        9.09090909,  9.19191919,  9.29292929,  9.39393939,  9.49494949,\n",
       "        9.5959596 ,  9.6969697 ,  9.7979798 ,  9.8989899 , 10.        ])"
      ]
     },
     "execution_count": 21,
     "metadata": {},
     "output_type": "execute_result"
    }
   ],
   "source": [
    "np.linspace(0,10,100) #me genera un numero de datos qe yo quiera dentro del rango"
   ]
  },
  {
   "cell_type": "code",
   "execution_count": 22,
   "metadata": {},
   "outputs": [
    {
     "data": {
      "text/plain": [
       "array([[1., 0., 0., 0.],\n",
       "       [0., 1., 0., 0.],\n",
       "       [0., 0., 1., 0.],\n",
       "       [0., 0., 0., 1.]])"
      ]
     },
     "execution_count": 22,
     "metadata": {},
     "output_type": "execute_result"
    }
   ],
   "source": [
    "np.eye(4)"
   ]
  },
  {
   "cell_type": "code",
   "execution_count": 25,
   "metadata": {},
   "outputs": [
    {
     "data": {
      "text/plain": [
       "array([[0.16796367, 0.39070266, 0.8781691 , 0.96049838],\n",
       "       [0.80355075, 0.73278658, 0.81070055, 0.33007594],\n",
       "       [0.29693293, 0.34185384, 0.12327146, 0.40327416],\n",
       "       [0.77482011, 0.94868582, 0.03312648, 0.70140492]])"
      ]
     },
     "execution_count": 25,
     "metadata": {},
     "output_type": "execute_result"
    }
   ],
   "source": [
    "np.random.rand()  #general valores aleatorios de 0 a 1\n",
    "np.random.rand(4)  #genera array con valores alatorios \n",
    "np.random.rand(4,4) #genera array ,atrixx con valores aleatorios"
   ]
  },
  {
   "cell_type": "code",
   "execution_count": 27,
   "metadata": {},
   "outputs": [
    {
     "data": {
      "text/plain": [
       "array([[ 1,  1, 10,  2,  7,  6,  5, 11,  8,  8],\n",
       "       [11, 11, 11,  6,  8, 12, 12,  7, 14,  8],\n",
       "       [13,  1, 12, 11, 12,  2,  5, 13,  2, 14],\n",
       "       [11,  5,  7, 14, 11,  9,  1, 10, 10,  2],\n",
       "       [14, 13, 12,  8,  1,  3, 11,  6, 10, 13],\n",
       "       [ 4,  4,  2,  6,  5, 11,  1,  6, 14, 11],\n",
       "       [ 7, 14,  6,  1, 13, 14,  2,  9,  8,  5],\n",
       "       [12, 10,  8,  3, 10,  7,  7, 13,  8, 12],\n",
       "       [ 2, 11,  1,  9,  1,  9,  3, 11, 13, 12],\n",
       "       [13,  8, 14, 10,  6, 10, 10, 12, 10, 12]])"
      ]
     },
     "execution_count": 27,
     "metadata": {},
     "output_type": "execute_result"
    }
   ],
   "source": [
    "np.random.randint(1,15) #valores aleatorios entre 1 y 15\n",
    "np.random.randint(1,15, (10,10)) #matrix de 10x10 con valores aleatorios entre 1 y 15"
   ]
  },
  {
   "cell_type": "markdown",
   "metadata": {},
   "source": [
    "## Shape and reshape"
   ]
  },
  {
   "cell_type": "code",
   "execution_count": 32,
   "metadata": {},
   "outputs": [
    {
     "data": {
      "text/plain": [
       "array([[9, 6],\n",
       "       [8, 2],\n",
       "       [9, 8]])"
      ]
     },
     "execution_count": 32,
     "metadata": {},
     "output_type": "execute_result"
    }
   ],
   "source": [
    "arr = np.random.randint(1,10,(3,2))\n",
    "arr"
   ]
  },
  {
   "cell_type": "code",
   "execution_count": 33,
   "metadata": {},
   "outputs": [
    {
     "data": {
      "text/plain": [
       "(3, 2)"
      ]
     },
     "execution_count": 33,
     "metadata": {},
     "output_type": "execute_result"
    }
   ],
   "source": [
    "arr.shape  #muestra filas y columnas"
   ]
  },
  {
   "cell_type": "code",
   "execution_count": 34,
   "metadata": {},
   "outputs": [
    {
     "data": {
      "text/plain": [
       "array([[9, 6, 8, 2, 9, 8]])"
      ]
     },
     "execution_count": 34,
     "metadata": {},
     "output_type": "execute_result"
    }
   ],
   "source": [
    "arr.reshape(1,6)"
   ]
  },
  {
   "cell_type": "code",
   "execution_count": 35,
   "metadata": {},
   "outputs": [
    {
     "data": {
      "text/plain": [
       "array([[9, 6, 8],\n",
       "       [2, 9, 8]])"
      ]
     },
     "execution_count": 35,
     "metadata": {},
     "output_type": "execute_result"
    }
   ],
   "source": [
    "arr.reshape(2,3)"
   ]
  },
  {
   "cell_type": "code",
   "execution_count": 36,
   "metadata": {},
   "outputs": [
    {
     "data": {
      "text/plain": [
       "array([[9, 6, 8, 2, 9, 8]])"
      ]
     },
     "execution_count": 36,
     "metadata": {},
     "output_type": "execute_result"
    }
   ],
   "source": [
    "np.reshape(arr, (1,6))"
   ]
  },
  {
   "cell_type": "code",
   "execution_count": 37,
   "metadata": {},
   "outputs": [
    {
     "data": {
      "text/plain": [
       "array([[9, 6],\n",
       "       [8, 2],\n",
       "       [9, 8]])"
      ]
     },
     "execution_count": 37,
     "metadata": {},
     "output_type": "execute_result"
    }
   ],
   "source": [
    "arr"
   ]
  },
  {
   "cell_type": "code",
   "execution_count": 38,
   "metadata": {},
   "outputs": [
    {
     "data": {
      "text/plain": [
       "array([[9, 6, 8],\n",
       "       [2, 9, 8]])"
      ]
     },
     "execution_count": 38,
     "metadata": {},
     "output_type": "execute_result"
    }
   ],
   "source": [
    "np.reshape(arr, (2,3), 'C') #mas recomendado usar"
   ]
  },
  {
   "cell_type": "code",
   "execution_count": 39,
   "metadata": {},
   "outputs": [
    {
     "data": {
      "text/plain": [
       "array([[9, 9, 2],\n",
       "       [8, 6, 8]])"
      ]
     },
     "execution_count": 39,
     "metadata": {},
     "output_type": "execute_result"
    }
   ],
   "source": [
    "np.reshape(arr, (2,3), 'F')"
   ]
  },
  {
   "cell_type": "code",
   "execution_count": 44,
   "metadata": {},
   "outputs": [
    {
     "name": "stdout",
     "output_type": "stream",
     "text": [
      "[[[   1    2    3    4]\n",
      "  [  10   11   12   13]\n",
      "  [  14   15   16   18]\n",
      "  [  12   15   48    7]]\n",
      "\n",
      " [[  14   12   15   17]\n",
      "  [  54   65   98   78]\n",
      "  [   3    0   45   65]\n",
      "  [   7    8    9   52]]\n",
      "\n",
      " [[  85   95   65   35]\n",
      "  [  45   78   45 1200]\n",
      "  [   0   12   36    5]\n",
      "  [  45    8    7    6]]] 3\n"
     ]
    },
    {
     "data": {
      "text/plain": [
       "(3, 4, 4)"
      ]
     },
     "execution_count": 44,
     "metadata": {},
     "output_type": "execute_result"
    }
   ],
   "source": [
    "tensor = np.squeeze(tensor)\n",
    "print(tensor, tensor.ndim)\n",
    "tensor.shape\n"
   ]
  },
  {
   "cell_type": "code",
   "execution_count": 51,
   "metadata": {},
   "outputs": [
    {
     "data": {
      "text/plain": [
       "array([[[   1,    2,    3,    4,   10,   11,   12,   13],\n",
       "        [  14,   15,   16,   18,   12,   15,   48,    7]],\n",
       "\n",
       "       [[  14,   12,   15,   17,   54,   65,   98,   78],\n",
       "        [   3,    0,   45,   65,    7,    8,    9,   52]],\n",
       "\n",
       "       [[  85,   95,   65,   35,   45,   78,   45, 1200],\n",
       "        [   0,   12,   36,    5,   45,    8,    7,    6]]])"
      ]
     },
     "execution_count": 51,
     "metadata": {},
     "output_type": "execute_result"
    }
   ],
   "source": [
    "np.reshape(tensor, (3,2,8), 'C')"
   ]
  },
  {
   "cell_type": "code",
   "execution_count": null,
   "metadata": {},
   "outputs": [],
   "source": []
  }
 ],
 "metadata": {
  "interpreter": {
   "hash": "a719b01ec97041b9733a18bbeb58602a0df7b40093b96b51af25c81c4d7cd783"
  },
  "kernelspec": {
   "display_name": "Python 3.9.12 ('numpy_and_pandas_fundamentals')",
   "language": "python",
   "name": "python3"
  },
  "language_info": {
   "codemirror_mode": {
    "name": "ipython",
    "version": 3
   },
   "file_extension": ".py",
   "mimetype": "text/x-python",
   "name": "python",
   "nbconvert_exporter": "python",
   "pygments_lexer": "ipython3",
   "version": "3.9.12"
  },
  "orig_nbformat": 4
 },
 "nbformat": 4,
 "nbformat_minor": 2
}
